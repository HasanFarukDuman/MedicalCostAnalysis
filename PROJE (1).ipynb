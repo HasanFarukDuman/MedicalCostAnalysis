{
  "nbformat": 4,
  "nbformat_minor": 0,
  "metadata": {
    "colab": {
      "provenance": []
    },
    "kernelspec": {
      "name": "python3",
      "display_name": "Python 3"
    },
    "language_info": {
      "name": "python"
    }
  },
  "cells": [
    {
      "cell_type": "code",
      "execution_count": 34,
      "metadata": {
        "id": "E9AjTftBoX50"
      },
      "outputs": [],
      "source": [
        "import pandas as pd\n",
        "from sklearn.model_selection import train_test_split\n",
        "from sklearn.preprocessing import LabelEncoder\n",
        "from sklearn.linear_model import LogisticRegression\n",
        "import numpy as np\n",
        "from sklearn.ensemble import RandomForestRegressor\n",
        "from sklearn.metrics import accuracy_score\n",
        "from sklearn.metrics import classification_report\n",
        "import matplotlib.pyplot as plt"
      ]
    },
    {
      "cell_type": "code",
      "source": [
        "medical = pd.read_csv(\"proje.csv\")\n",
        "df = medical.copy()\n",
        "print(\"Verinin ilk yedi satırı:\\n\",df.head(7))\n",
        "print(df.isna().sum())#NaN sayısı\n",
        "df.info()#Sütun değikenlerinin bilgileri"
      ],
      "metadata": {
        "id": "_w5GeLPUpFFy"
      },
      "execution_count": null,
      "outputs": []
    },
    {
      "cell_type": "code",
      "source": [
        "#SMOKER'ı kategorik sınıf haline getirme\n",
        "df['smoker'] = df['smoker'].astype('category')\n",
        "print(df['smoker'])"
      ],
      "metadata": {
        "id": "qErImrNWtYX_"
      },
      "execution_count": null,
      "outputs": []
    },
    {
      "cell_type": "code",
      "source": [
        "#Age sütunundaki benzersiz veri\n",
        "value = df['age'].value_counts()\n",
        "print(value)"
      ],
      "metadata": {
        "id": "nsQdz8qyqJz9"
      },
      "execution_count": null,
      "outputs": []
    },
    {
      "cell_type": "code",
      "source": [
        "#Smoker sütunundaki benzersiz veri\n",
        "value = df['smoker'].value_counts()\n",
        "print(value)"
      ],
      "metadata": {
        "id": "v0uTJjEhqS1Y"
      },
      "execution_count": null,
      "outputs": []
    },
    {
      "cell_type": "code",
      "source": [
        "#Region sütunundaki benzersiz veri\n",
        "value =df['region'].value_counts()\n",
        "print(value)"
      ],
      "metadata": {
        "id": "PaUGSAVJqfWD"
      },
      "execution_count": null,
      "outputs": []
    },
    {
      "cell_type": "code",
      "source": [
        "#AGE ve BMİ arasındaki ilişki\n",
        "fig = plt.figure(figsize=(65,65))\n",
        "plt.bar(df['age'],df['bmi'],width=0.3)\n",
        "plt.xlabel(\"Age\")\n",
        "plt.ylabel(\"Body Mass Index\")\n",
        "plt.title(\"AGE BODY MASS INDEX TABLE\")\n",
        "plt.show()"
      ],
      "metadata": {
        "id": "M_ooPQ7-qopd"
      },
      "execution_count": null,
      "outputs": []
    },
    {
      "cell_type": "code",
      "source": [
        "#SMOKER ve CHARGES arasındaki ilişki\n",
        "smoke = df['smoker']\n",
        "list=[]\n",
        "for x in range(1338):\n",
        "    if smoke[x] == \"yes\":\n",
        "        list.append(1)\n",
        "    else:\n",
        "        list.append(0)\n",
        "\n",
        "fig2 = plt.figure(figsize=(65,50))\n",
        "plt.bar(list,df['charges'],width=0.2)\n",
        "plt.xlabel(\"0-No Smoke and 1-Yes Smoke\")\n",
        "plt.ylabel(\"Charges\")\n",
        "plt.show()"
      ],
      "metadata": {
        "id": "ZYLDBA6prSC1"
      },
      "execution_count": null,
      "outputs": []
    },
    {
      "cell_type": "code",
      "source": [
        "#REGİON ve SMOKER arasındaki ilişki\n",
        "set = pd.DataFrame([list,df['region']],['Smoker','Region'])\n",
        "\n",
        "northeast = 0\n",
        "southeast = 0\n",
        "northwest = 0\n",
        "southwest = 0\n",
        "\n",
        "for x in range(1338):\n",
        "    value_index = set.iat[0, x]\n",
        "    value_index2 = set.iat[1, x]\n",
        "    if value_index2 == 'southwest':\n",
        "        southwest = value_index + southwest\n",
        "    elif value_index2 == 'northwest':\n",
        "        northwest = value_index + northwest\n",
        "    elif value_index2 == 'northeast':\n",
        "        northeast = value_index + northeast\n",
        "    else:\n",
        "        southeast = value_index + southeast\n",
        "\n",
        "array = np.array([southeast,southwest,northeast,northwest])\n",
        "\n",
        "plt.pie(array,labels=['Southeast','Southwest','Northeast','Northwest'],autopct='%1.1f%%')\n",
        "plt.title('SMOKİNG RATES BY REGİON')\n",
        "plt.show()"
      ],
      "metadata": {
        "id": "9C5DKZ0zrssW"
      },
      "execution_count": null,
      "outputs": []
    },
    {
      "cell_type": "code",
      "source": [
        "#SEX ve CHARGES arasındaki ilişki\n",
        "dt = pd.Series(df['sex'])\n",
        "dt2 = pd.Series(df['charges'])\n",
        "\n",
        "dict_1 = {'sex':dt,'charges':dt2}\n",
        "\n",
        "pandas = pd.DataFrame(dict_1)\n",
        "\n",
        "m_charges = 0\n",
        "f_charges = 0\n",
        "\n",
        "for x in range(1338):\n",
        "    value_index = pandas.iat[x, 0]\n",
        "    value_index2 = pandas.iat[x, 1]\n",
        "    if value_index == 'male':\n",
        "        m_charges = value_index2 + m_charges\n",
        "    else:\n",
        "        f_charges = value_index2 + f_charges\n",
        "\n",
        "label = ['Male','Female']\n",
        "charges = np.array([m_charges,f_charges])\n",
        "\n",
        "plt.pie(charges,labels=label,autopct='%1.1f%%')\n",
        "plt.title('CRİME RATES BY GENDER')\n",
        "plt.show()"
      ],
      "metadata": {
        "id": "O--um2uqr5wS"
      },
      "execution_count": null,
      "outputs": []
    },
    {
      "cell_type": "code",
      "source": [
        "#One-hot encoding\n",
        "df_encoded = pd.get_dummies(df, columns=['sex','region','smoker'], drop_first=True)"
      ],
      "metadata": {
        "id": "3drvPItg0oEd"
      },
      "execution_count": 44,
      "outputs": []
    },
    {
      "cell_type": "code",
      "source": [
        "#Veri setini Train ve Test veri setlerine ayırma\n",
        "X = df_encoded.drop('charges', axis=1)\n",
        "y = df_encoded['charges']\n",
        "\n",
        "X_train,X_test,y_train,y_test = train_test_split(X,y,test_size=0.2)"
      ],
      "metadata": {
        "id": "jeTmibZuwuui"
      },
      "execution_count": 45,
      "outputs": []
    },
    {
      "cell_type": "code",
      "source": [
        "#Veri setlerinin boyutları\n",
        "print(\"Eğitim veri seti boyutu:\", X_train.shape, y_train.shape)\n",
        "print(\"Test veri seti boyutu:\", X_test.shape, y_test.shape)"
      ],
      "metadata": {
        "id": "KQeAOqqD_Qcu"
      },
      "execution_count": null,
      "outputs": []
    },
    {
      "cell_type": "code",
      "source": [
        "#Modeli oluşturma ve eğitme\n",
        "model = RandomForestRegressor(n_estimators=120,random_state=40)\n",
        "model.fit(X_train,y_train)"
      ],
      "metadata": {
        "id": "8EmO8rPQxDOZ"
      },
      "execution_count": null,
      "outputs": []
    },
    {
      "cell_type": "code",
      "source": [
        "#Test verileri üzerinde tahmin yapma\n",
        "y_pred = model.predict(X_test)"
      ],
      "metadata": {
        "id": "IMOluc8I10zO"
      },
      "execution_count": 48,
      "outputs": []
    },
    {
      "cell_type": "code",
      "source": [
        "#Test verisini liste objsine dönüştürme\n",
        "y_testL = y_test.tolist()\n",
        "print(y_testL)"
      ],
      "metadata": {
        "id": "_4svi7Xj5_sE"
      },
      "execution_count": null,
      "outputs": []
    },
    {
      "cell_type": "code",
      "source": [
        "#Tahmin verisini liste objesine dönüştürme\n",
        "y_pred = pd.Series(y_pred)\n",
        "y_pred = y_pred.tolist()\n",
        "print(y_pred)"
      ],
      "metadata": {
        "id": "dlGv5diV6C8Y"
      },
      "execution_count": null,
      "outputs": []
    },
    {
      "cell_type": "code",
      "source": [
        "#MSE ve MAE hata değerlerini hesaplama\n",
        "from sklearn.metrics import mean_squared_error\n",
        "mse = mean_squared_error(y_testL, y_pred)\n",
        "\n",
        "print(\"Mean Squared Error:\", mse)\n",
        "\n",
        "from sklearn.metrics import mean_absolute_error\n",
        "mae = mean_absolute_error(y_testL, y_pred)\n",
        "\n",
        "print(\"Mean Absolute Error:\", mae)"
      ],
      "metadata": {
        "id": "NOXbHuHOCZbc",
        "colab": {
          "base_uri": "https://localhost:8080/"
        },
        "outputId": "6cc8bb38-1982-4f4e-d7dc-60f5a79bc41d"
      },
      "execution_count": 51,
      "outputs": [
        {
          "output_type": "stream",
          "name": "stdout",
          "text": [
            "Mean Squared Error: 21857126.127150975\n",
            "Mean Absolute Error: 2762.6410055469205\n"
          ]
        }
      ]
    }
  ]
}